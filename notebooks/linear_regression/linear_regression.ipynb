{
 "cells": [
  {
   "cell_type": "markdown",
   "id": "41f079c8",
   "metadata": {},
   "source": [
    "# PyTorch Toolkit: 01 - Linear Regression\n",
    "\n",
    "This notebook is the first entry in a series exploring PyTorch for deep learning. Here, we build the most basic model: a simple linear regression model.\n",
    "\n",
    "**Goal:** To predict a numerical value based on a single input feature. We will:\n",
    "1.  Create synthetic data with a linear relationship.\n",
    "2.  Define two versions of a linear regression model, a 'manual' and an 'abstraction' approach.\n",
    "3.  Train the model using a loss function and an optimizer.\n",
    "4.  Evaluate the results and visualize the predictions."
   ]
  },
  {
   "cell_type": "code",
   "execution_count": 1,
   "id": "2f67a96e",
   "metadata": {},
   "outputs": [],
   "source": [
    "import numpy as np\n",
    "import matplotlib.pyplot as plt\n",
    "import torch\n",
    "import torch.nn as nn"
   ]
  },
  {
   "cell_type": "code",
   "execution_count": 2,
   "id": "ff3b7eeb",
   "metadata": {},
   "outputs": [
    {
     "data": {
      "text/plain": [
       "'2.9.0+cpu'"
      ]
     },
     "execution_count": 2,
     "metadata": {},
     "output_type": "execute_result"
    }
   ],
   "source": [
    "torch.__version__"
   ]
  },
  {
   "cell_type": "markdown",
   "id": "b9ffa439",
   "metadata": {},
   "source": [
    "## 1. Data preparation\n",
    "We'll start by creating some synthetic \"known\" data, so we can see how well our model learns the true underlying parameters (`weight` and `bias`) that we define ourselves."
   ]
  },
  {
   "cell_type": "code",
   "execution_count": 3,
   "id": "001e2359",
   "metadata": {},
   "outputs": [
    {
     "data": {
      "image/png": "[encoded data removed]",
      "text/plain": [
       "<Figure size 800x600 with 1 Axes>"
      ]
     },
     "metadata": {},
     "output_type": "display_data"
    }
   ],
   "source": [
    "# Create known parameters (the model will try to learn these)\n",
    "weight = 0.7\n",
    "bias = 0.3\n",
    "\n",
    "# Create data\n",
    "start = 0\n",
    "end = 1\n",
    "step = 0.002\n",
    "X = torch.arange(start, end, step).unsqueeze(dim=1)\n",
    "y = weight * X + bias + torch.randn(X.shape) * 0.08 # Add some noise\n",
    "\n",
    "# Plot to see the linear relationship\n",
    "def plot_data(X_data, y_data, predictions=None, figsize=(8,6)):\n",
    "    plt.figure(figsize=figsize)\n",
    "    plt.scatter(X_data, y_data, c='b', s=4, label='Original data')\n",
    "    if predictions is not None:\n",
    "        plt.scatter(X_data, predictions, c='r', s=4, label='Predictions')\n",
    "    plt.legend()\n",
    "    plt.show()\n",
    "\n",
    "plot_data(X, y)"
   ]
  },
  {
   "cell_type": "markdown",
   "id": "e8739951",
   "metadata": {},
   "source": [
    "## 2. Model architecture\n",
    "We will define our model in two ways to understand what PyTorch does behind the scenes."
   ]
  },
  {
   "cell_type": "markdown",
   "id": "2c379e9b",
   "metadata": {},
   "source": [
    "### 2.1 Manual implementation (using `nn.Parameter`)\n",
    "We manually define the `weights` and `bias` as trainable parameters by wrapping them in `nn.Parameter`. This tells PyTorch to track gradients for these specific tensors during training."
   ]
  },
  {
   "cell_type": "code",
   "execution_count": 4,
   "id": "275d9782",
   "metadata": {},
   "outputs": [],
   "source": [
    "class LinearRegressionModelManual(nn.Module):\n",
    "    def __init__(self):\n",
    "        super().__init__()\n",
    "        # Explicitly create trainable parameters\n",
    "        self.weights = nn.Parameter(torch.randn(1, requires_grad=True, dtype=torch.float))\n",
    "        self.bias = nn.Parameter(torch.randn(1, requires_grad=True, dtype=torch.float))\n",
    "\n",
    "    def forward(self, x: torch.Tensor) -> torch.Tensor: # x is the input data\n",
    "        # Perform the computation (linear equation)\n",
    "        return self.weights * x + self.bias"
   ]
  },
  {
   "cell_type": "markdown",
   "id": "faeb8543",
   "metadata": {},
   "source": [
    "### 2.2 Idiomatic PyTorch implementation (using `nn.Linear`)\n",
    "While the manual approach is great for learning, the standard way to build models in PyTorch is by using its library of pre-built layers. \n",
    "\n",
    "The `nn.Linear` layer does the exact same thing as our manual implementation but in a more concise and scalable way."
   ]
  },
  {
   "cell_type": "code",
   "execution_count": 5,
   "id": "e52648f0",
   "metadata": {},
   "outputs": [],
   "source": [
    "class LinearRegressionModel(nn.Module):\n",
    "    def __init__(self):\n",
    "        super().__init__()\n",
    "        # Use a pre-built layer that contains the weights and biases internally\n",
    "        self.linear_layer = nn.Linear(in_features=1, out_features=1)\n",
    "\n",
    "    def forward(self, x: torch.Tensor) -> torch.Tensor:\n",
    "        # Call the layer, which applies the ecuation\n",
    "        return self.linear_layer(x)"
   ]
  },
  {
   "cell_type": "markdown",
   "id": "62d9299b",
   "metadata": {},
   "source": [
    " ## 3. Training the model\n",
    "\n",
    " "
   ]
  },
  {
   "cell_type": "markdown",
   "id": "27934d67",
   "metadata": {},
   "source": [
    "### 3.1 Setup: Loss Function and Optimizer\n",
    "Before we train, we need to specify:\n",
    "- **Loss Function:** To measure how wrong our model's predictions are. We'll use `nn.L1Loss` (Mean absolute error).\n",
    "- **Optimizer:** To adjust our model's parameters to reduce the loss. We'll use `torch.optim.SGD` (Stochastic gradient descent).\n",
    "- **Learning Rate:** To control how much the model's parameters are updated during training."
   ]
  },
  {
   "cell_type": "code",
   "execution_count": 6,
   "id": "4dfb3fad",
   "metadata": {},
   "outputs": [],
   "source": [
    "torch.manual_seed(42)\n",
    "model = LinearRegressionModel()\n",
    "\n",
    "# Loss function\n",
    "loss_fn = nn.L1Loss()\n",
    "\n",
    "# Optimizer\n",
    "learning_rate = 0.01\n",
    "optimizer = torch.optim.SGD(params=model.parameters(), lr=learning_rate)"
   ]
  },
  {
   "cell_type": "markdown",
   "id": "f8395144",
   "metadata": {},
   "source": [
    "### 3.2 The training loop\n",
    "This is the core of the process. We will loop over the data for a set number of *epochs*, and in each loop, we will perform the five essential steps of training a PyTorch model.\n",
    "\n",
    "0. Put the model in training mode\n",
    "1. Forward pass: pass the data through the model to get predictions\n",
    "2. Calculate loss: compare the predictions with the actual values\n",
    "3. Reset the gradients of the model parameters (so they don't accumulate)\n",
    "4. Backprop step: perform backpropagation on the loss with respect to the parameters of the model\n",
    "5. Optimizer step: optimizer updates the parameters using the gradients calculated in the previous step\n"
   ]
  },
  {
   "cell_type": "code",
   "execution_count": 7,
   "id": "1e015e41",
   "metadata": {},
   "outputs": [
    {
     "name": "stdout",
     "output_type": "stream",
     "text": [
      "Epoch: 0 | Loss: 0.5622 | Test loss: 0.5536\n",
      "Model parameters: OrderedDict({'linear_layer.weight': tensor([[0.7605]]), 'linear_layer.bias': tensor([0.8200])})\n",
      "------------------------------\n",
      "Epoch: 50 | Loss: 0.0720 | Test loss: 0.0830\n",
      "Model parameters: OrderedDict({'linear_layer.weight': tensor([[0.5858]]), 'linear_layer.bias': tensor([0.3721])})\n",
      "------------------------------\n",
      "Epoch: 100 | Loss: 0.0652 | Test loss: 0.0949\n",
      "Model parameters: OrderedDict({'linear_layer.weight': tensor([[0.5998]]), 'linear_layer.bias': tensor([0.3387])})\n",
      "------------------------------\n",
      "Epoch: 150 | Loss: 0.0641 | Test loss: 0.0885\n",
      "Model parameters: OrderedDict({'linear_layer.weight': tensor([[0.6210]]), 'linear_layer.bias': tensor([0.3303])})\n",
      "------------------------------\n",
      "Epoch: 200 | Loss: 0.0633 | Test loss: 0.0840\n",
      "Model parameters: OrderedDict({'linear_layer.weight': tensor([[0.6392]]), 'linear_layer.bias': tensor([0.3224])})\n",
      "------------------------------\n",
      "Epoch: 250 | Loss: 0.0629 | Test loss: 0.0820\n",
      "Model parameters: OrderedDict({'linear_layer.weight': tensor([[0.6520]]), 'linear_layer.bias': tensor([0.3155])})\n",
      "------------------------------\n",
      "Epoch: 300 | Loss: 0.0626 | Test loss: 0.0796\n",
      "Model parameters: OrderedDict({'linear_layer.weight': tensor([[0.6638]]), 'linear_layer.bias': tensor([0.3107])})\n",
      "------------------------------\n",
      "Epoch: 350 | Loss: 0.0623 | Test loss: 0.0779\n",
      "Model parameters: OrderedDict({'linear_layer.weight': tensor([[0.6741]]), 'linear_layer.bias': tensor([0.3057])})\n",
      "------------------------------\n",
      "Epoch: 400 | Loss: 0.0622 | Test loss: 0.0761\n",
      "Model parameters: OrderedDict({'linear_layer.weight': tensor([[0.6823]]), 'linear_layer.bias': tensor([0.3034])})\n",
      "------------------------------\n",
      "Epoch: 450 | Loss: 0.0620 | Test loss: 0.0755\n",
      "Model parameters: OrderedDict({'linear_layer.weight': tensor([[0.6887]]), 'linear_layer.bias': tensor([0.2999])})\n",
      "------------------------------\n",
      "Epoch: 500 | Loss: 0.0620 | Test loss: 0.0752\n",
      "Model parameters: OrderedDict({'linear_layer.weight': tensor([[0.6923]]), 'linear_layer.bias': tensor([0.2974])})\n",
      "------------------------------\n",
      "Epoch: 550 | Loss: 0.0620 | Test loss: 0.0751\n",
      "Model parameters: OrderedDict({'linear_layer.weight': tensor([[0.6956]]), 'linear_layer.bias': tensor([0.2952])})\n",
      "------------------------------\n",
      "Epoch: 600 | Loss: 0.0620 | Test loss: 0.0746\n",
      "Model parameters: OrderedDict({'linear_layer.weight': tensor([[0.6983]]), 'linear_layer.bias': tensor([0.2944])})\n",
      "------------------------------\n",
      "Epoch: 650 | Loss: 0.0619 | Test loss: 0.0745\n",
      "Model parameters: OrderedDict({'linear_layer.weight': tensor([[0.7003]]), 'linear_layer.bias': tensor([0.2929])})\n",
      "------------------------------\n",
      "Epoch: 700 | Loss: 0.0619 | Test loss: 0.0743\n",
      "Model parameters: OrderedDict({'linear_layer.weight': tensor([[0.7023]]), 'linear_layer.bias': tensor([0.2918])})\n",
      "------------------------------\n",
      "Epoch: 750 | Loss: 0.0619 | Test loss: 0.0741\n",
      "Model parameters: OrderedDict({'linear_layer.weight': tensor([[0.7037]]), 'linear_layer.bias': tensor([0.2913])})\n",
      "------------------------------\n",
      "Epoch: 800 | Loss: 0.0619 | Test loss: 0.0740\n",
      "Model parameters: OrderedDict({'linear_layer.weight': tensor([[0.7042]]), 'linear_layer.bias': tensor([0.2912])})\n",
      "------------------------------\n",
      "Epoch: 850 | Loss: 0.0619 | Test loss: 0.0738\n",
      "Model parameters: OrderedDict({'linear_layer.weight': tensor([[0.7048]]), 'linear_layer.bias': tensor([0.2912])})\n",
      "------------------------------\n",
      "Epoch: 900 | Loss: 0.0619 | Test loss: 0.0737\n",
      "Model parameters: OrderedDict({'linear_layer.weight': tensor([[0.7054]]), 'linear_layer.bias': tensor([0.2911])})\n",
      "------------------------------\n",
      "Epoch: 950 | Loss: 0.0619 | Test loss: 0.0736\n",
      "Model parameters: OrderedDict({'linear_layer.weight': tensor([[0.7059]]), 'linear_layer.bias': tensor([0.2910])})\n",
      "------------------------------\n"
     ]
    }
   ],
   "source": [
    "epochs = 1_000\n",
    "\n",
    "# Train-test split\n",
    "train_split = int(0.8 * len(X))\n",
    "X_train, y_train = X[:train_split], y[:train_split]\n",
    "X_test, y_test = X[train_split:], y[train_split:]\n",
    "\n",
    "# Training loop\n",
    "for epoch in range(epochs):\n",
    "    # Put the model in training mode\n",
    "    model.train()\n",
    "    \n",
    "    # 1. Forward pass\n",
    "    y_pred = model(X_train)\n",
    "\n",
    "    # 2. Calculate loss\n",
    "    loss = loss_fn(y_pred, y_train)\n",
    "\n",
    "    # 3. Reset the gradients of the model parameters\n",
    "    optimizer.zero_grad()\n",
    "\n",
    "    # 4. Backprop step\n",
    "    loss.backward()\n",
    "\n",
    "    # 5. Optimizer step\n",
    "    optimizer.step()\n",
    "\n",
    "\n",
    "    # Testing (to check what it's going on)\n",
    "    model.eval() # Set the model in evaluation mode\n",
    "    \n",
    "    with torch.no_grad(): # Disable gradient tracking\n",
    "        # 1. Forward pass on test data\n",
    "        test_pred = model(X_test)\n",
    "        \n",
    "        # 2. Calculate loss on test data\n",
    "        test_loss = loss_fn(test_pred, y_test)\n",
    "\n",
    "    if epoch % 50 == 0:\n",
    "        print(f\"Epoch: {epoch} | Loss: {loss:.4f} | Test loss: {test_loss:.4f}\")\n",
    "        print(f\"Model parameters: {model.state_dict()}\")\n",
    "        print(\"-\" * 30)\n",
    "\n",
    "    # We can save the model's state_dict to make predictions later\n",
    "    PATH = \"../../models/linear_regression_model.pth\"\n",
    "    torch.save(obj=model.state_dict(), f=PATH)\n"
   ]
  },
  {
   "cell_type": "markdown",
   "id": "0ce99f0a",
   "metadata": {},
   "source": [
    "## 4. Evaluation and visualization\n",
    "Now that the model is trained, let's see how well it learned the relationship in our data by plotting its predictions against the actual test data.\n",
    "\n",
    "There are three things to check before do evaluation with the model:\n",
    "1. Set the model to evaluation mode with `model_eval()` \n",
    "2. Use the inference mode context manager (`torch.no_grad()` or `torch.inference_mode()`)\n",
    "3. Prediction should be made with objects on the same device (CPU or GPU)"
   ]
  },
  {
   "cell_type": "code",
   "execution_count": 8,
   "id": "cc7b07a2",
   "metadata": {},
   "outputs": [
    {
     "name": "stdout",
     "output_type": "stream",
     "text": [
      "Final model parameters:\n",
      "OrderedDict({'linear_layer.weight': tensor([[0.7064]]), 'linear_layer.bias': tensor([0.2908])})\n"
     ]
    },
    {
     "data": {
      "image/png": "[encoded data removed]",
      "text/plain": [
       "<Figure size 700x500 with 1 Axes>"
      ]
     },
     "metadata": {},
     "output_type": "display_data"
    },
    {
     "data": {
      "image/png": "[encoded data removed]",
      "text/plain": [
       "<Figure size 700x500 with 1 Axes>"
      ]
     },
     "metadata": {},
     "output_type": "display_data"
    }
   ],
   "source": [
    "# Put the model in evaluation mode\n",
    "model.eval()\n",
    "\n",
    "# Make predictions with the trained model\n",
    "with torch.no_grad():\n",
    "    y_preds_new = model(X_test)\n",
    "\n",
    "# See the final learned parameters\n",
    "print(\"Final model parameters:\")\n",
    "print(model.state_dict())\n",
    "\n",
    "plot_data(X_train, y_train, predictions=None, figsize=(7,5))      # Plot original training data\n",
    "plot_data(X_test, y_test, predictions=y_preds_new, figsize=(7,5)) # Plot test data and predictions\n"
   ]
  },
  {
   "cell_type": "markdown",
   "id": "ba0b4247",
   "metadata": {},
   "source": [
    "## 5. Summary\n",
    "\n",
    "The model successfully learned the linear relationship in the data, and the parameters are very close to the original ones.\n",
    "\n",
    "- **Original parameters:** `weight=0.7`, `bias=0.3`\n",
    "- **Learned parameters:** `weight=0.6933`, `bias=0.2964`"
   ]
  }
 ],
 "metadata": {
  "kernelspec": {
   "display_name": ".venv",
   "language": "python",
   "name": "python3"
  },
  "language_info": {
   "codemirror_mode": {
    "name": "ipython",
    "version": 3
   },
   "file_extension": ".py",
   "mimetype": "text/x-python",
   "name": "python",
   "nbconvert_exporter": "python",
   "pygments_lexer": "ipython3",
   "version": "3.12.4"
  }
 },
 "nbformat": 4,
 "nbformat_minor": 5
}
